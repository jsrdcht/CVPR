{
 "cells": [
  {
   "cell_type": "code",
   "execution_count": 37,
   "outputs": [],
   "source": [
    "from __future__ import print_function\n",
    "\n",
    "import os\n",
    "import random\n",
    "import shutil\n",
    "from tqdm import tqdm\n",
    "\n",
    "import numpy as np\n",
    "import torch\n",
    "import torch.nn as nn\n",
    "import torch.nn.functional as F\n",
    "import torch.optim as optim\n",
    "import torch.utils.data as data\n",
    "import torchvision.transforms as transforms\n",
    "import torchvision.datasets as datasets\n",
    "from PIL import Image\n",
    "from utils import load_model, AverageMeter, accuracy\n",
    "import cv2\n",
    "\n",
    "from config import cfg\n",
    "from dataset import *\n",
    "from utils import *"
   ],
   "metadata": {
    "collapsed": false,
    "pycharm": {
     "name": "#%%\n"
    },
    "trusted": false
   }
  },
  {
   "cell_type": "markdown",
   "source": [
    "# 环境变量设置"
   ],
   "metadata": {
    "collapsed": false,
    "pycharm": {
     "name": "#%% md\n"
    }
   }
  },
  {
   "cell_type": "code",
   "execution_count": 38,
   "outputs": [],
   "source": [
    "os.chdir(\"./\")   #修改当前工作目录\n",
    "\n",
    "# Use CUDA\n",
    "use_cuda = torch.cuda.is_available()\n",
    "\n",
    "seed = 11037\n",
    "random.seed(seed)\n",
    "np.random.seed(seed)\n",
    "torch.manual_seed(seed)\n",
    "torch.backends.cudnn.deterministic = True\n",
    "\n",
    "model_file = './tf_efficientnet_b3_ns93.14395092845393.pth.tar'"
   ],
   "metadata": {
    "collapsed": false,
    "pycharm": {
     "name": "#%%\n"
    }
   }
  },
  {
   "cell_type": "markdown",
   "source": [
    "# 推理"
   ],
   "metadata": {
    "collapsed": false,
    "pycharm": {
     "name": "#%% md\n"
    }
   }
  },
  {
   "cell_type": "code",
   "execution_count": 39,
   "outputs": [],
   "source": [
    "@torch.no_grad()\n",
    "def infer(testloader, model):\n",
    "    losses = AverageMeter()\n",
    "    accs = AverageMeter()\n",
    "    model.eval()\n",
    "\n",
    "    predicts = []\n",
    "    img_names = []\n",
    "\n",
    "    bar = tqdm(enumerate(testloader), total=len(testloader))\n",
    "    for steps, (inputs, names) in bar:\n",
    "        inputs = inputs.to('cuda', dtype=torch.float)\n",
    "\n",
    "        outputs = model(inputs)\n",
    "        # loss = cross_entropy(outputs, labels)\n",
    "        # acc = accuracy(outputs, labels)\n",
    "\n",
    "        # losses.update(loss.item(), inputs.size(0))\n",
    "        # accs.update(acc[0].item(), inputs.size(0))\n",
    "        outputs = torch.softmax(outputs, dim=1)\n",
    "        target = torch.argmax(outputs,dim=1)\n",
    "\n",
    "\n",
    "\n",
    "        img_names.extend(names)\n",
    "        predicts.extend(target.detach().cpu().numpy().tolist())\n",
    "\n",
    "        print(len(img_names))\n",
    "        print(len(predicts))\n",
    "\n",
    "        # bar.set_postfix(test_loss=losses.avg, test_acc=accs.avg,\n",
    "        #                 lr=optimizer.state_dict()['param_groups'][0]['lr'])\n",
    "\n",
    "    return losses.avg, accs.avg"
   ],
   "metadata": {
    "collapsed": false,
    "pycharm": {
     "name": "#%%\n"
    }
   }
  },
  {
   "cell_type": "code",
   "execution_count": 40,
   "outputs": [],
   "source": [
    "# img = cv2.imread('./data/train_images/106.JPEG')\n",
    "# img = cv2.cvtColor(img, cv2.COLOR_BGR2RGB)\n",
    "# img = img.astype(int)                #转换数据类型\n",
    "# cv2.imwrite('{:d}.jpg'.format(0), img)\n",
    "#\n",
    "# img = cv2.imread('./data/train_images/106.JPEG')\n",
    "# img = cv2.cvtColor(img, cv2.COLOR_BGR2RGB)\n",
    "# img = transform_train(image=img)[\"image\"]\n",
    "# img = img.numpy()\n",
    "# img = img.transpose([1,2,0])\n",
    "# img = (img - np.min(img))/(np.max(img) - np.min(img)) *255.0  #转为0-255\n",
    "# img = img.astype(int)                #转换数据类型\n",
    "# cv2.imwrite('{:d}.jpg'.format(1), img)"
   ],
   "metadata": {
    "collapsed": false,
    "pycharm": {
     "name": "#%%\n"
    }
   }
  },
  {
   "cell_type": "markdown",
   "source": [],
   "metadata": {
    "collapsed": false
   }
  },
  {
   "cell_type": "code",
   "execution_count": 41,
   "outputs": [
    {
     "name": "stdout",
     "output_type": "stream",
     "text": [
      "(224, 224, 3) )))))))))\n",
      "(224, 224, 3) )))))))))\n",
      "(224, 224, 3) )))))))))\n",
      "(224, 224, 3) )))))))))\n",
      "(224, 224, 3) )))))))))\n",
      "(224, 224, 3) )))))))))\n",
      "(224, 224, 3) )))))))))\n",
      "(224, 224, 3) )))))))))\n",
      "(224, 224, 3) )))))))))\n",
      "(224, 224, 3) )))))))))\n",
      "(3, 224, 224)\n",
      "(224, 224, 3) )))))))))\n",
      "(3, 224, 224)\n",
      "(3, 224, 224)\n",
      "(3, 224, 224)\n",
      "(3, 224, 224)\n",
      "(3, 224, 224)\n",
      "(3, 224, 224)\n",
      "(3, 224, 224)\n",
      "(3, 224, 224)\n",
      "(3, 224, 224)\n"
     ]
    }
   ],
   "source": [
    "train_set = MyDataset(data_dir='./data', mode='train', transform=transform_train)\n",
    "train_set = iter(train_set)\n",
    "for i in range(100):\n",
    "    batch_sample, _ = next(train_set)\n",
    "for i in range(10):\n",
    "    batch_sample, _ = next(train_set)\n",
    "    img = batch_sample.numpy()\n",
    "    print(img.shape)\n",
    "    img = img.transpose([1,2,0])\n",
    "    img = (img - np.min(img))/(np.max(img) - np.min(img)) *255.0  #转为0-255\n",
    "    img = img.astype(int)                #转换数据类型\n",
    "    # # if i==6: print(img)\n",
    "    # print(img.shape)\n",
    "    cv2.imwrite('{:d}.jpg'.format(i), img)\n",
    "\n"
   ],
   "metadata": {
    "collapsed": false,
    "pycharm": {
     "name": "#%%\n"
    }
   }
  },
  {
   "cell_type": "code",
   "execution_count": 42,
   "outputs": [],
   "source": [
    "# testset = MyDataset(data_dir='./data', mode='test', transform=transform_test)\n",
    "# testloader = data.DataLoader(testset, batch_size=16, shuffle=False, num_workers=0)\n",
    "#\n",
    "# # Model\n",
    "# model_dict = torch.load(model_file)\n",
    "# model = load_model(cfg['model'],pretrained=False)\n",
    "# model.load_state_dict(model_dict['state_dict'])\n",
    "# model = model.cuda()\n",
    "#\n",
    "# train_loss, train_acc = infer(testloader, model)\n",
    "\n"
   ],
   "metadata": {
    "collapsed": false,
    "pycharm": {
     "name": "#%%\n"
    }
   }
  }
 ],
 "metadata": {
  "kernelspec": {
   "display_name": "Python 3",
   "language": "python",
   "name": "python3"
  },
  "language_info": {
   "codemirror_mode": {
    "name": "ipython",
    "version": 2
   },
   "file_extension": ".py",
   "mimetype": "text/x-python",
   "name": "python",
   "nbconvert_exporter": "python",
   "pygments_lexer": "ipython2",
   "version": "2.7.6"
  }
 },
 "nbformat": 4,
 "nbformat_minor": 0
}